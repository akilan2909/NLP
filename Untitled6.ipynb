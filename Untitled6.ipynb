{
  "nbformat": 4,
  "nbformat_minor": 0,
  "metadata": {
    "colab": {
      "provenance": []
    },
    "kernelspec": {
      "name": "python3",
      "display_name": "Python 3"
    },
    "language_info": {
      "name": "python"
    }
  },
  "cells": [
    {
      "cell_type": "code",
      "execution_count": 1,
      "metadata": {
        "colab": {
          "base_uri": "https://localhost:8080/"
        },
        "id": "38gqmgaa3tHB",
        "outputId": "1ecea2e4-3716-4554-8f40-21416df7ba32"
      },
      "outputs": [
        {
          "output_type": "stream",
          "name": "stdout",
          "text": [
            "Requirement already satisfied: nltk in /usr/local/lib/python3.10/dist-packages (3.8.1)\n",
            "Requirement already satisfied: click in /usr/local/lib/python3.10/dist-packages (from nltk) (8.1.7)\n",
            "Requirement already satisfied: joblib in /usr/local/lib/python3.10/dist-packages (from nltk) (1.4.2)\n",
            "Requirement already satisfied: regex>=2021.8.3 in /usr/local/lib/python3.10/dist-packages (from nltk) (2024.9.11)\n",
            "Requirement already satisfied: tqdm in /usr/local/lib/python3.10/dist-packages (from nltk) (4.66.6)\n",
            "Requirement already satisfied: transformers in /usr/local/lib/python3.10/dist-packages (4.44.2)\n",
            "Requirement already satisfied: filelock in /usr/local/lib/python3.10/dist-packages (from transformers) (3.16.1)\n",
            "Requirement already satisfied: huggingface-hub<1.0,>=0.23.2 in /usr/local/lib/python3.10/dist-packages (from transformers) (0.24.7)\n",
            "Requirement already satisfied: numpy>=1.17 in /usr/local/lib/python3.10/dist-packages (from transformers) (1.26.4)\n",
            "Requirement already satisfied: packaging>=20.0 in /usr/local/lib/python3.10/dist-packages (from transformers) (24.1)\n",
            "Requirement already satisfied: pyyaml>=5.1 in /usr/local/lib/python3.10/dist-packages (from transformers) (6.0.2)\n",
            "Requirement already satisfied: regex!=2019.12.17 in /usr/local/lib/python3.10/dist-packages (from transformers) (2024.9.11)\n",
            "Requirement already satisfied: requests in /usr/local/lib/python3.10/dist-packages (from transformers) (2.32.3)\n",
            "Requirement already satisfied: safetensors>=0.4.1 in /usr/local/lib/python3.10/dist-packages (from transformers) (0.4.5)\n",
            "Requirement already satisfied: tokenizers<0.20,>=0.19 in /usr/local/lib/python3.10/dist-packages (from transformers) (0.19.1)\n",
            "Requirement already satisfied: tqdm>=4.27 in /usr/local/lib/python3.10/dist-packages (from transformers) (4.66.6)\n",
            "Requirement already satisfied: fsspec>=2023.5.0 in /usr/local/lib/python3.10/dist-packages (from huggingface-hub<1.0,>=0.23.2->transformers) (2024.10.0)\n",
            "Requirement already satisfied: typing-extensions>=3.7.4.3 in /usr/local/lib/python3.10/dist-packages (from huggingface-hub<1.0,>=0.23.2->transformers) (4.12.2)\n",
            "Requirement already satisfied: charset-normalizer<4,>=2 in /usr/local/lib/python3.10/dist-packages (from requests->transformers) (3.4.0)\n",
            "Requirement already satisfied: idna<4,>=2.5 in /usr/local/lib/python3.10/dist-packages (from requests->transformers) (3.10)\n",
            "Requirement already satisfied: urllib3<3,>=1.21.1 in /usr/local/lib/python3.10/dist-packages (from requests->transformers) (2.2.3)\n",
            "Requirement already satisfied: certifi>=2017.4.17 in /usr/local/lib/python3.10/dist-packages (from requests->transformers) (2024.8.30)\n"
          ]
        }
      ],
      "source": [
        "!pip install nltk\n",
        "!pip install transformers\n"
      ]
    },
    {
      "cell_type": "code",
      "source": [
        "import nltk\n",
        "from nltk.chat.util import Chat, reflections\n"
      ],
      "metadata": {
        "id": "Ew2UvrxC4Pd1"
      },
      "execution_count": 2,
      "outputs": []
    },
    {
      "cell_type": "code",
      "source": [
        "\n",
        "pairs = [\n",
        "    (r\"hi|hello|hey\", [\"Hello! How can I assist you with college inquiries today?\"]),\n",
        "    (r\"what is the college name?\", [\"Sri Sairam Engineering College, known for excellence in education.\"]),\n",
        "    (r\"what courses do you offer?\", [\"We offer undergraduate, postgraduate, and diploma courses in various fields including Computer Science, Engineering, Business Administration, and more.\"]),\n",
        "    (r\"what are the admission requirements?\", [\"For undergraduate courses, we require a high school diploma with specific subject requirements. Please visit our website for more details.\"]),\n",
        "    (r\"where is the college located?\", [\"We are located in Tambaram,Chennai, Tamilnadu.\"]),\n",
        "    (r\"how can I apply?\", [\"You can apply online through our website. Please visit the admissions section for more information.\"]),\n",
        "    (r\"thank you|thanks\", [\"You're welcome! Let me know if you have any more questions.\"]),\n",
        "    (r\"bye|goodbye\", [\"Goodbye! Have a great day!\"])\n",
        "]\n",
        "\n",
        "\n",
        "# Create the chatbot\n",
        "chatbot = Chat(pairs, reflections)\n",
        "\n",
        "# Function to start the conversation\n",
        "def start_conversation():\n",
        "    print(\"Welcome to the College Enquiry Chatbot! Type 'quit' to exit.\")\n",
        "    while True:\n",
        "        user_input = input(\"You: \")\n",
        "        if user_input.lower() == \"quit\":\n",
        "            print(\"Goodbye! Have a nice day!\")\n",
        "            break\n",
        "        response = chatbot.respond(user_input)\n",
        "        print(f\"Bot: {response}\")\n"
      ],
      "metadata": {
        "id": "f7epE4HO4gnh"
      },
      "execution_count": 10,
      "outputs": []
    },
    {
      "cell_type": "code",
      "source": [
        "start_conversation()"
      ],
      "metadata": {
        "colab": {
          "base_uri": "https://localhost:8080/"
        },
        "id": "M8gq3TzK5_m-",
        "outputId": "6f34a488-baa9-45e4-d2db-296299830258"
      },
      "execution_count": null,
      "outputs": [
        {
          "output_type": "stream",
          "name": "stdout",
          "text": [
            "Welcome to the College Enquiry Chatbot! Type 'quit' to exit.\n",
            "You: hi\n",
            "Bot: Hello! How can I assist you with college inquiries today?\n",
            "You: what is the college name?\n",
            "Bot: Sri Sairam Engineering College, known for excellence in education.\n",
            "You: what courses do you offer?\n",
            "Bot: We offer undergraduate, postgraduate, and diploma courses in various fields including Computer Science, Engineering, Business Administration, and more.\n",
            "You: what are the admission requirements?\n",
            "Bot: For undergraduate courses, we require a high school diploma with specific subject requirements. Please visit our website for more details.\n",
            "You: where is the college located?\n",
            "Bot: We are located in Tambaram,Chennai, Tamilnadu.\n",
            "You: how can I apply?\n",
            "Bot: You can apply online through our website. Please visit the admissions section for more information.\n",
            "You: thank you\n",
            "Bot: You're welcome! Let me know if you have any more questions.\n"
          ]
        }
      ]
    }
  ]
}